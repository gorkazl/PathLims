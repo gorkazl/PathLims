{
 "cells": [
  {
   "cell_type": "markdown",
   "metadata": {},
   "source": [
    "# Evaluation of limits for pathlength and global efficiency. Undirected graphs.\n",
    "Author: **Gorka Zamora-López**\n",
    "\n",
    "<img src=\"Images/UPFlogo_smaller.png\" style=\"float:left; width:149px; height:50px\"  alt=\"UPF logo\" />\n",
    "<img src=\"Images/HBPlogo_smaller.png\" style=\"float:right; width:254px; heigth:50px \" alt=\"HBP logo\" />\n",
    "\n",
    "<br/>\n",
    "<br/>\n",
    "<br/>\n",
    "\n",
    "\n",
    "\n",
    "---------------------\n",
    "\n",
    "This notebook illustrates how to calculate the upper (ultra-long) and the lower (ultra-short) limits for the average pathlength (and global efficiency) of complex networks using the Python package [PathLims](https://github.com/gorkazl/PathLims). The notebook reproduces, for illustration, some of the results published in the reference:\n",
    "\n",
    "* G. Zamora-López & R. Brasselet, \"*[Sizing complex networks](https://doi.org/10.1038/s42005-019-0239-0)*\" Commun Phys **2**:144 (2019)\n",
    "\n",
    "In this notebook we will:\n",
    "1. Read an empirical dataset and compute its average pathlength and global efficiency.\n",
    "3. Estimate the ultra-short and ultra-long limits for average pathlength and global efficiency, given the size $N$ and the number of edges $L$ of the network.\n",
    "4. Calculate the average pathlength and the global efficiency of random graphs and lattices of same $N$ and $L$.\n",
    "5. Visualise and compare the results.\n",
    "\n",
    "\n",
    "--------------------\n",
    "\n",
    "### Dependencies\n",
    "\n",
    "The Notebook requires a Python 3.X installation together with *NumPy* and *Matplotlib* libraries. Although *PathLims* works as an stand-alone package, in this example we will use the [GAlib](https://github.com/gorkazl/pyGAlib) package for the manipulation, analysis and\n",
    "generation of (di)graphs. *GAlib* will be installed from the Python Package Index (PyPI) using `pip`.\n"
   ]
  },
  {
   "cell_type": "markdown",
   "metadata": {},
   "source": [
    "#### Import the main libraries\n",
    "\n",
    "To get started, the first thing we need is to load the libraries we will need to work. Start importing the built-in and third party libraries.\n",
    "\n"
   ]
  },
  {
   "cell_type": "code",
   "execution_count": 1,
   "metadata": {},
   "outputs": [],
   "source": [
    "from __future__ import division, print_function\n",
    "\n",
    "from timeit import default_timer as timer\n",
    "import matplotlib.pyplot as plt\n",
    "%matplotlib inline\n",
    "\n",
    "import numpy as np\n",
    "import numpy.linalg\n"
   ]
  },
  {
   "cell_type": "markdown",
   "metadata": {},
   "source": [
    "#### Import additional libraries\n",
    "\n",
    "The following cells will check whether *GAlib* and *PathLims* are already installed in the current working environment, otherwise, `pip` will be called for their installation (a working internet connection is required). **NOTE**: The exclamation mark ( ! ) before `pip install galib` indicates the Jupyter Notebook that the current line is a system command, which is then treated as if it were run from a terminal.\n"
   ]
  },
  {
   "cell_type": "code",
   "execution_count": 2,
   "metadata": {},
   "outputs": [],
   "source": [
    "## Check if GAlib is installed in the current Python environment, otherwise install\n",
    "try:\n",
    "    import galib\n",
    "except:\n",
    "    # Install from PyPI\n",
    "    print('Installing GAlib...')\n",
    "    ! pip install galib\n",
    "    import galib\n",
    "\n",
    "import galib.models\n",
    "import galib.tools\n",
    "import galib.metrics_numba"
   ]
  },
  {
   "cell_type": "code",
   "execution_count": 4,
   "metadata": {},
   "outputs": [],
   "source": [
    "## Check if PathLims is installed in the current environment, otherwise install\n",
    "try:\n",
    "    import pathlims\n",
    "except:\n",
    "    # Install from the GitHub repository\n",
    "    print('Installing PathLims...')\n",
    "    ! pip install pathlims\n",
    "\n",
    "import pathlims\n",
    "import pathlims.limits as lims\n",
    "import pathlims.generators as gens"
   ]
  },
  {
   "cell_type": "code",
   "execution_count": 5,
   "metadata": {},
   "outputs": [],
   "source": [
    "# Explore the help functions of PathLims\n",
    "# pathlims?\n",
    "# pathlims.limits?\n",
    "# pathlims.generators?"
   ]
  },
  {
   "cell_type": "markdown",
   "metadata": {},
   "source": [
    "<br/>\n",
    "\n",
    "### 1. Read a dataset and compute its properties\n",
    "\n",
    "To start with, we will first load one of the six available empirical undirected networks provided (Human cortico-cortical connectome, collaboration network of Jazz musicians, the Zachary Karate club, the dolphins social network, the Chicago local transportation network and the London transportation network. The datasets are in Pajek format and located in the `Data/` folder.\n"
   ]
  },
  {
   "cell_type": "code",
   "execution_count": 6,
   "metadata": {},
   "outputs": [
    {
     "name": "stdout",
     "output_type": "stream",
     "text": [
      "NETWORK - Und_Human.net\n",
      "\n",
      "Number of nodes, N: 66\n",
      "Number of edges, L: 590\n",
      "Density of links: 0.2751\n"
     ]
    }
   ],
   "source": [
    "# Choose one network from ( Und_Human.net, Und_Jazz.net, Und_Zachary.net,\n",
    "# Und_Dolphins.net, Und_Chicago.net, Und_London.net )\n",
    "dataroot = 'Data/'\n",
    "netfname = 'Und_Human.net'\n",
    "net = galib.tools.LoadFromPajek(dataroot + netfname, getlabels=False)\n",
    "# Binarise the network and make sure it is undirected\n",
    "net = np.where(net,1,0).astype(np.uint8)\n",
    "N = len(net)\n",
    "assert galib.Reciprocity(net) == 1.0, \\\n",
    "            \"Network is directed. Use 'AnalyseDatasets_Directed.py' instead.\"\n",
    "\n",
    "# Extract the basic properties of the network\n",
    "L = 0.5*net.sum()\n",
    "Lmax = int( 0.5*N*(N-1) )\n",
    "density = L / Lmax\n",
    "# Print some feedback\n",
    "print( 'NETWORK -' , netfname)\n",
    "print( '\\nNumber of nodes, N: %d' %N )\n",
    "print( 'Number of edges, L: %d' %L ) \n",
    "print( 'Density of links: %1.4f' %density )\n"
   ]
  },
  {
   "cell_type": "code",
   "execution_count": 7,
   "metadata": {},
   "outputs": [
    {
     "name": "stdout",
     "output_type": "stream",
     "text": [
      "Is the graph connected? True\n",
      "Average pathlength: 1.8732\n",
      "Global efficiency:  0.6150\n"
     ]
    }
   ],
   "source": [
    "# CALCULATE THE PATHLENGTH AND EFFICIENCY OF THE NETWORK\n",
    "# Calculate the pairwise distance matrix and compute average\n",
    "dij = galib.metrics_numba.FloydWarshall_Numba(net)\n",
    "dijsum = dij.sum()\n",
    "if np.isinf(dijsum):\n",
    "    pathlen_emp = np.inf\n",
    "else:\n",
    "    pathlen_emp = float( dijsum - dij.trace() ) / (2*Lmax)\n",
    "# Calculate efficiency matrix and the average\n",
    "eij = 1./dij\n",
    "effic_emp = float( eij.sum() - eij.trace() ) / (2*Lmax)\n",
    "\n",
    "# Check if network is connected\n",
    "if dij.max() < N:\n",
    "    connected = True\n",
    "else:\n",
    "    connected = False\n",
    "print( 'Is the graph connected?', connected )\n",
    "print( 'Average pathlength: %2.4f' %pathlen_emp )\n",
    "print( 'Global efficiency:  %2.4f' %effic_emp )\n"
   ]
  },
  {
   "cell_type": "markdown",
   "metadata": {},
   "source": [
    "From these numbers alone it is very difficult to interpret whether a network is short or long, or whether it shall be considered as an *small-world* network. For a more complete assessment, these values should be compared to the outcome of other networks. However, since the pathlength and efficiency of any network very much dependent on their size (number of nodes) and density (number of edges) a directed comparison across networks are not always informative. Thus, we need to disentangle the contribution of the network’s internal architecture to the pathlength from the incidental influence contributed by the number of nodes and links.\n",
    "\n",
    "In the following, we will thus calculate the upper and the lower limits for the pathlength and efficiency that networks of $N$ nodes and $L$ links could possibly take, and the values for equivalent (Erdös-Rènyi) random graphs and ring lattices. All these results will provide a more complete description, allowing us for a more faithful interpretaion of the values observed in the empirical network.\n"
   ]
  },
  {
   "cell_type": "markdown",
   "metadata": {},
   "source": [
    "### 2. Estimate the boundaries for the pathlength and global efficiency\n",
    "\n",
    "The ultra-short and the ultra-long limits represent the solutions to the following optimization problem:\n",
    "\n",
    "```    \n",
    "What is the smallest and the largest average pathlength (global efficiency) that\n",
    "a graph can achieve, given that the graph is made of N nodes and L links?\n",
    "```\n",
    "\n",
    "As such, this optimization problem does not impose any assumptions on the generative mechanisms governing how the network should be constructed. If the optimal solutions (the resulting graphs) followed a given generative rule telling how to seed the links to achieve an network, that mechanism is then part of the solution to the problem, not a pre-stablished procedure. This is important in order to distinguish between limits and null-models. \n",
    "\n",
    "In the following, we will first calculate the limits, that is, what are the largest and the smallest possible values of average pathlength (or global efficiency) that a graph of $N$ nodes could possibly take given that it contains $L$ edges. The results will be displayed at the end.\n"
   ]
  },
  {
   "cell_type": "code",
   "execution_count": 8,
   "metadata": {},
   "outputs": [],
   "source": [
    "# ESTIMATE THE BOUNDARIES FOR PATHLENGTH AND EFFICIENCY\n",
    "# Ultra-short and ultra-long pathlength\n",
    "pathlen_us = lims.Pathlen_USgraph(N,L)\n",
    "pathlen_ul = lims.Pathlen_ULgraph(N,L)\n",
    "\n",
    "# Ultra-short and ultra-long efficiency\n",
    "effic_us = lims.Effic_USgraph(N,L)\n",
    "effic_ul = lims.Effic_ULgraph(N,L, connected=connected)\n"
   ]
  },
  {
   "cell_type": "markdown",
   "metadata": {},
   "source": [
    "### 3. Pathlength and efficiency of null-models\n",
    "\n",
    "Random graphs and ring lattices are two common null-models often employed to evaluate whether a given network shall be classified as small-world or not. The difference with the limits is that apart from a set of constraints (e.g., the resulting graph needs to have $N$ nodes and $L$ edges) null-modes impose a generative mechanism governing the rules by which the edges are seeded on the graph. Random graphs assume that each edge is planted by choosing two nodes at random, from a probability distribution where each node has a given chance to be chosen. In ring-lattices edges are seeded following a deterministic procedure based on the nearest neighbours.\n",
    "\n",
    "In the following we will calculate the average pathlength and the global efficiency for (Erdös-Rènyi) random graphs and ring lattices with the same number of nodes $N$ and number of edges $L$ as the empirical networks loaded before. For the case of random graphs, we will generate `nrealiz = 100` samples and will then evaluate the ensemble averaged results."
   ]
  },
  {
   "cell_type": "code",
   "execution_count": 9,
   "metadata": {},
   "outputs": [
    {
     "name": "stdout",
     "output_type": "stream",
     "text": [
      "\n",
      "Calculating 100 random realizations ...\n",
      "10\n",
      "20\n",
      "30\n",
      "40\n",
      "50\n",
      "60\n",
      "70\n",
      "80\n",
      "90\n",
      "Finished.\n"
     ]
    }
   ],
   "source": [
    "# CALCULATE AVERAGE PATHLENGTH FOR EQUIVALENT RANDOM GRAPHS AND RING LATTICES\n",
    "# Equivalent random graphs, from ensemble\n",
    "nrealiz = 100\n",
    "print( \"\\nCalculating %d random realizations ...\" %nrealiz)\n",
    "\n",
    "pathlenlist = np.zeros(nrealiz, np.float)\n",
    "efficlist = np.zeros(nrealiz, np.float)\n",
    "for re in range(nrealiz):\n",
    "    # Print some feedback\n",
    "    if re in np.arange(10,110,10):\n",
    "        print( re )\n",
    "\n",
    "    # Generate a random graph\n",
    "    randnet = galib.models.RandomGraph(N,L, directed=False)\n",
    "    # Calculate distance matrix and the average pathlength\n",
    "    rdij = galib.metrics_numba.FloydWarshall_Numba(randnet)\n",
    "    rdijsum = rdij.sum()\n",
    "    if np.isinf(rdijsum):\n",
    "        pathlenlist[re] = np.inf\n",
    "    else:\n",
    "        pathlenlist[re] = ( rdijsum - rdij.trace() ) / (N*(N-1))\n",
    "    # Calculate efficiency matrix and efficiency\n",
    "    reij = 1./rdij\n",
    "    efficlist[re] = ( reij.sum() - reij.trace() ) / (N*(N-1))\n",
    "print( 'Finished.' )\n",
    "\n",
    "# Calculate the ensemble average pathlength. Ignore disconnected random graphs\n",
    "goodidx = np.where(pathlenlist < np.inf)[0]\n",
    "if goodidx.size > 0:\n",
    "    pathlen_rand = pathlenlist[goodidx].mean()\n",
    "else:\n",
    "    pathlen_rand = np.nan\n",
    "nbad = nrealiz - goodidx.size\n",
    "if nbad:\n",
    "    print( '%d disconnected random graph(s) found out of %d realizations' %(nbad,nrealiz) )\n",
    "    print( 'Discarding them from calculation of ensemble average pathlength' )\n",
    "# Calculate the ensemble average pathlength\n",
    "effic_rand = efficlist.mean()\n"
   ]
  },
  {
   "cell_type": "code",
   "execution_count": 10,
   "metadata": {},
   "outputs": [],
   "source": [
    "# Equivalent 1D ring lattices\n",
    "# Generate a ring lattice of same size and number of edges as the empirical network\n",
    "latt = galib.models.Lattice1D_FixLinks(N,L)\n",
    "# Calculate its distance matrix and the average pathlength\n",
    "ldij = galib.metrics_numba.FloydWarshall_Numba(latt)\n",
    "pathlen_latt = ( ldij.sum() - ldij.trace() ) / (N*(N-1))\n",
    "# Calculate the efficiency matrix and the average\n",
    "leij = 1. / ldij\n",
    "effic_latt = ( leij.sum() - leij.trace() ) / (N*(N-1))\n"
   ]
  },
  {
   "cell_type": "markdown",
   "metadata": {},
   "source": [
    "### 4. Summarise and visualise the results\n",
    "\n",
    "Finally, we can compare the values obtained for the empirical network together with the limits and with the outcome for different null-models in order to reveal the position every value takes in the space of possible outcomes."
   ]
  },
  {
   "cell_type": "code",
   "execution_count": 11,
   "metadata": {},
   "outputs": [
    {
     "name": "stdout",
     "output_type": "stream",
     "text": [
      "\n",
      "RESULTS --------------------------------------\n",
      "\t\tPathlength\tEfficiency\n",
      "Ultra-short\t1.7249\t\t0.6375\n",
      "Random\t\t1.7295\t\t0.6368\n",
      "Empirical\t1.8732\t\t0.6150\n",
      "Lattice\t\t2.3497\t\t0.5480\n",
      "Ultra-long\t11.7128\t\t0.3552\n"
     ]
    }
   ],
   "source": [
    "# Print the numerical results\n",
    "print( '\\nRESULTS --------------------------------------' )\n",
    "print( '\\t\\tPathlength\\tEfficiency' )\n",
    "print( 'Ultra-short\\t%2.4f\\t\\t%2.4f' %(pathlen_us, effic_us) )\n",
    "print( 'Random\\t\\t%2.4f\\t\\t%2.4f'   %(pathlen_rand, effic_rand) )\n",
    "print( 'Empirical\\t%2.4f\\t\\t%2.4f'  %(pathlen_emp, effic_emp) )\n",
    "print( 'Lattice\\t\\t%2.4f\\t\\t%2.4f'  %(pathlen_latt, effic_latt) )\n",
    "print( 'Ultra-long\\t%2.4f\\t\\t%2.4f' %(pathlen_ul, effic_ul) )\n"
   ]
  },
  {
   "cell_type": "code",
   "execution_count": 12,
   "metadata": {},
   "outputs": [
    {
     "data": {
      "image/png": "[encoded data removed]",
      "text/plain": [
       "<Figure size 432x288 with 2 Axes>"
      ]
     },
     "metadata": {
      "needs_background": "light"
     },
     "output_type": "display_data"
    }
   ],
   "source": [
    "# Plot the results for visualization\n",
    "plt.figure()\n",
    "\n",
    "# Plot the PATHLENGTH\n",
    "plt.subplot(1,2,1)\n",
    "plt.title('Pathlength', fontsize=14)\n",
    "plt.axhline(y=1, linewidth=1.0, color='gray')\n",
    "# Plot the boundaries\n",
    "plt.axhline(y=pathlen_us, linewidth=1.0, color='gray', label='Ultra-short')\n",
    "plt.axhspan(1, pathlen_us, facecolor='gray', alpha=0.3)\n",
    "plt.axhline(y=pathlen_ul, linewidth=1.0, color='gold', label='Ultra-long')\n",
    "plt.axhspan(pathlen_ul, pathlen_ul+5, facecolor='gold', alpha=0.3)\n",
    "# Plot the random and lattice\n",
    "plt.scatter(1,pathlen_rand, marker='_', s=500, label='Random')\n",
    "plt.scatter(1,pathlen_latt, marker='_', s=500, label='Ring')\n",
    "# Plot the empirical data\n",
    "plt.scatter(1,pathlen_emp, marker='+', s=50, label='Real net')\n",
    "plt.xticks(())\n",
    "plt.ylim(1,pathlen_ul+1)\n",
    "\n",
    "# Plot the EFFICIENCY\n",
    "plt.subplot(1,2,2)\n",
    "plt.title('Global efficiency', fontsize=14)\n",
    "# Plot the boundaries\n",
    "plt.axhline(y=effic_us, linewidth=1.0, color='gray', label='Ultra-short')\n",
    "plt.axhspan(effic_us, 1, facecolor='gray', alpha=0.3)\n",
    "plt.axhline(y=effic_ul, linewidth=1.0, color='gold', label='Ultra-long')\n",
    "plt.axhline(y=density, ls='dashed', linewidth=1.0, color='gold', label='UL disco.')\n",
    "plt.axhspan(0, density, facecolor='gold', alpha=0.3)\n",
    "# Plot the random and lattice\n",
    "plt.scatter(1,effic_rand, marker='_', s=500, label='Random')\n",
    "plt.scatter(1,effic_latt, marker='_', s=500, label='Ring')\n",
    "# Plot the empirical data\n",
    "plt.scatter(1,effic_emp, marker='+', s=50, label='Real net')\n",
    "plt.xticks(())\n",
    "plt.ylim(0,1)\n",
    "\n",
    "plt.legend(loc='upper right', fontsize=9)\n",
    "\n",
    "plt.tight_layout()\n"
   ]
  },
  {
   "cell_type": "code",
   "execution_count": null,
   "metadata": {},
   "outputs": [],
   "source": []
  },
  {
   "cell_type": "code",
   "execution_count": null,
   "metadata": {},
   "outputs": [],
   "source": []
  }
 ],
 "metadata": {
  "kernelspec": {
   "display_name": "Python 3",
   "language": "python",
   "name": "python3"
  },
  "language_info": {
   "codemirror_mode": {
    "name": "ipython",
    "version": 3
   },
   "file_extension": ".py",
   "mimetype": "text/x-python",
   "name": "python",
   "nbconvert_exporter": "python",
   "pygments_lexer": "ipython3",
   "version": "3.6.5"
  }
 },
 "nbformat": 4,
 "nbformat_minor": 2
}
