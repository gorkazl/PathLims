{
 "cells": [
  {
   "cell_type": "markdown",
   "metadata": {},
   "source": [
    "# Evaluation of limits for pathlength and global efficiency. Directed graphs.\n",
    "Author: **Gorka Zamora-López**\n",
    "\n",
    "<img src=\"Images/UPFlogo_smaller.png\" style=\"float:left; width:149px; height:50px\"  alt=\"UPF logo\" />\n",
    "<img src=\"Images/HBPlogo_smaller.png\" style=\"float:right; width:254px; heigth:50px \" alt=\"HBP logo\" />\n",
    "\n",
    "<br/>\n",
    "<br/>\n",
    "<br/>\n",
    "\n",
    "\n",
    "\n",
    "---------------------\n",
    "\n",
    "This notebook illustrates how to calculate the upper (ultra-long) and the lower (ultra-short) limits for the average pathlength (and global efficiency) of complex networks using the Python package [PathLims](https://github.com/gorkazl/PathLims). The notebook reproduces, for illustration, some of the results published in the reference:\n",
    "\n",
    "* G. Zamora-López & R. Brasselet, \"*[Sizing complex networks](https://doi.org/10.1038/s42005-019-0239-0)*\" Commun Phys **2**:144 (2019)\n",
    "\n",
    "In this notebook we will:\n",
    "1. Read an empirical dataset and compute its average pathlength and global efficiency.\n",
    "3. Estimate the ultra-short and ultra-long limits for average pathlength and global efficiency, given the size $N$ and the number of edges $L$ of the network.\n",
    "4. Calculate the average pathlength and the global efficiency of random graphs and lattices of same $N$ and $L$.\n",
    "5. Visualise and compare the results.\n",
    "\n",
    "\n",
    "--------------------\n",
    "\n",
    "### Dependencies\n",
    "\n",
    "The Notebook requires a Python 3.X installation together with *NumPy* and *Matplotlib* libraries. Although *PathLims* works as an stand-alone package, in this example we will use the [GAlib](https://github.com/gorkazl/pyGAlib) package for the manipulation, analysis and\n",
    "generation of (di)graphs. *GAlib* will be installed from the Python Package Index (PyPI) using `pip`.\n"
   ]
  },
  {
   "cell_type": "markdown",
   "metadata": {},
   "source": [
    "#### Import the main libraries\n",
    "\n",
    "To get started, the first thing we need is to load the libraries we will need to work. Start importing the built-in and third party libraries.\n",
    "\n"
   ]
  },
  {
   "cell_type": "code",
   "execution_count": 1,
   "metadata": {},
   "outputs": [],
   "source": [
    "from __future__ import division, print_function\n",
    "\n",
    "from timeit import default_timer as timer\n",
    "import matplotlib.pyplot as plt\n",
    "%matplotlib inline\n",
    "\n",
    "import numpy as np\n",
    "import numpy.linalg\n"
   ]
  },
  {
   "cell_type": "markdown",
   "metadata": {},
   "source": [
    "#### Import additional libraries\n",
    "\n",
    "The following cells will check whether *GAlib* and *PathLims* are already installed in the current working environment, otherwise, `pip` will be called for their installation (a working internet connection is required). **NOTE**: The exclamation mark ( ! ) before `pip install galib` indicates the Jupyter Notebook that the current line is a system command, which is then treated as if it were run from a terminal.\n"
   ]
  },
  {
   "cell_type": "code",
   "execution_count": 2,
   "metadata": {},
   "outputs": [],
   "source": [
    "## Check if GAlib is installed in the current Python environment, otherwise install\n",
    "try:\n",
    "    import galib\n",
    "except:\n",
    "    # Install from PyPI\n",
    "    print('Installing GAlib...')\n",
    "    ! pip install galib\n",
    "    import galib\n",
    "\n",
    "    import galib.models\n",
    "import galib.tools\n",
    "import galib.metrics_numba"
   ]
  },
  {
   "cell_type": "code",
   "execution_count": 4,
   "metadata": {},
   "outputs": [],
   "source": [
    "## Check if PathLims is installed in the current environment, otherwise install\n",
    "try:\n",
    "    import pathlims\n",
    "except:\n",
    "    # Install from the GitHub repository\n",
    "    print('Installing PathLims...')\n",
    "    ! pip install pathlims\n",
    "\n",
    "import pathlims\n",
    "import pathlims.limits as lims\n",
    "import pathlims.generators as gens"
   ]
  },
  {
   "cell_type": "code",
   "execution_count": 5,
   "metadata": {},
   "outputs": [],
   "source": [
    "# Explore the help functions of PathLims\n",
    "# pathlims?\n",
    "# lims?\n",
    "# gens?"
   ]
  },
  {
   "cell_type": "markdown",
   "metadata": {},
   "source": [
    "<br/>\n",
    "\n",
    "### 1. Read a dataset and compute its properties\n",
    "\n",
    "To start with, we will first load one of the three available empirical directed networks provided (cortico-cortical connectome of cats, neuronal network of the C. elegans and prison inmates social network). The datasets are in Pajek format and located in the `Data/` folder.\n"
   ]
  },
  {
   "cell_type": "code",
   "execution_count": 6,
   "metadata": {},
   "outputs": [
    {
     "name": "stdout",
     "output_type": "stream",
     "text": [
      "NETWORK - Dir_Cat.net\n",
      "\n",
      "Number of nodes, N: 53\n",
      "Number of edges, L: 826\n",
      "Density of links: 0.2997\n"
     ]
    }
   ],
   "source": [
    "# Choose one network between (Dir_Cat.net, Dir_Elegans.net, Dir_Prison.net)\n",
    "dataroot = 'Data/'\n",
    "netfname = 'Dir_Cat.net'\n",
    "net = galib.tools.LoadFromPajek(dataroot + netfname, getlabels=False)\n",
    "# Binarise the network\n",
    "net = np.where(net,1,0).astype(np.uint8)\n",
    "N = len(net)\n",
    "\n",
    "assert galib.Reciprocity(net) < 1.0, \\\n",
    "    \"Network is Undirected. Use 'EmpiricalNets_Undirected.py' instead.\"\n",
    "\n",
    "# Extract the basic properties of the network\n",
    "L = net.sum()\n",
    "Lmax = int( N*(N-1) )\n",
    "density = L / Lmax\n",
    "\n",
    "# Print some feedback\n",
    "print( 'NETWORK -' , netfname)\n",
    "print( '\\nNumber of nodes, N: %d' %N )\n",
    "print( 'Number of edges, L: %d' %L ) \n",
    "print( 'Density of links: %1.4f' %density )\n"
   ]
  },
  {
   "cell_type": "code",
   "execution_count": 7,
   "metadata": {},
   "outputs": [
    {
     "name": "stdout",
     "output_type": "stream",
     "text": [
      "Is the digraph strongly connected? True\n",
      "Average pathlength: 1.8276\n",
      "Global efficiency:  0.6288\n"
     ]
    }
   ],
   "source": [
    "# CALCULATE THE PATHLENGTH AND EFFICIENCY OF THE NETWORK\n",
    "# Calculate the pairwise distance matrix and calculate average\n",
    "dij = galib.metrics_numba.FloydWarshall_Numba(net)\n",
    "dijsum = dij.sum()\n",
    "if np.isinf(dijsum):\n",
    "    pathlen_emp = np.inf\n",
    "else:\n",
    "    pathlen_emp = float( dijsum - dij.trace() ) / Lmax\n",
    "# Calculate efficiency matrix and the average\n",
    "eij = 1./dij\n",
    "effic_emp = float( eij.sum() - eij.trace() ) / Lmax\n",
    "\n",
    "# Check if network is connected\n",
    "if dij.max() < N: connected = True\n",
    "else: connected = False\n",
    "print('Is the digraph strongly connected?', connected)\n",
    "print( 'Average pathlength: %2.4f' %pathlen_emp )\n",
    "print( 'Global efficiency:  %2.4f' %effic_emp )\n"
   ]
  },
  {
   "cell_type": "markdown",
   "metadata": {},
   "source": [
    "From these numbers alone it is very difficult to interpret whether a network is short or long, or whether it shall be considered as an *small-world* network. For a more complete assessment, these values should be compared to the outcome of other networks. However, since the pathlength and efficiency of any network very much dependent on their size (number of nodes) and density (number of edges) a directed comparison across networks are not always informative. Thus, we need to disentangle the contribution of the network’s internal architecture to the pathlength from the incidental influence contributed by the number of nodes and links.\n",
    "\n",
    "In the following, we will thus calculate the upper and the lower limits for the pathlength and efficiency that networks of $N$ nodes and $L$ links could possibly take, and the values for equivalent (Erdös-Rènyi) random directed graphs and ring lattices. All these results will provide a more complete description, allowing us for a more faithful interpretaion of the values observed in the empirical network.\n"
   ]
  },
  {
   "cell_type": "markdown",
   "metadata": {},
   "source": [
    "### 2. Estimate the boundaries for the pathlength and global efficiency\n",
    "\n",
    "The ultra-short and the ultra-long limits represent the solutions to the following optimization problem:\n",
    "\n",
    "```    \n",
    "What is the smallest and the largest average pathlength (global efficiency) that\n",
    "a graph can achieve, given that the graph is made of N nodes and L links?\n",
    "```\n",
    "\n",
    "As such, this optimization problem does not impose any assumptions on the generative mechanisms governing how the network should be constructed. If the optimal solutions (the resulting graphs) followed a given generative rule telling how to seed the links to achieve an network, that mechanism is then part of the solution to the problem, not a pre-stablished procedure. This is important in order to distinguish between limits and null-models. \n",
    "\n",
    "In the following, we will first calculate the limits, that is, what are the largest and the smallest possible values of average pathlength (or global efficiency) that a directed graph of $N$ nodes could possibly take given that it contains $L$ arcs. The results will be displayed at the end.\n"
   ]
  },
  {
   "cell_type": "code",
   "execution_count": 8,
   "metadata": {},
   "outputs": [],
   "source": [
    "# ESTIMATE THE BOUNDARIES FOR PATHLENGTH AND EFFICIENCY\n",
    "# Ultra-short and ultra-long pathlength\n",
    "pathlen_us = lims.Pathlen_USdigraph(N,L)\n",
    "## NOTE: UL digraph model for L < (N-1) + 1/2 N(N-1) not known for all\n",
    "## values of L. Pathlen_ULdigraph() returns an approximation in those cases.\n",
    "pathlen_ul = lims.Pathlen_ULdigraph(N,L)\n",
    "\n",
    "# 2.2) ultra-short efficiency\n",
    "effic_us = lims.Effic_USdigraph(N,L)\n",
    "\n",
    "# 2.3) ultra-long efficiency for connected digraphs\n",
    "## NOTE: So far, no exact equation for efficiency of strongly connected\n",
    "## ultra-long digraphs is known. We will generate two M-BS digraphs of\n",
    "## order M and (M+1), we will calculate their efficiencies numerically\n",
    "## and then interpolate the result\n",
    "# Calculate the corresponding M value, given N and L\n",
    "M = int( 0.5*(1.0 + np.sqrt(1.0 + 8.0*(L-N))) )\n",
    "# Generate the UL digraph containing an M-BS. Calculate its efficiency\n",
    "ulnet1 = gens.ULdigraph_Connected_Range1_MBS(N,M)\n",
    "dij1 = galib.metrics_numba.FloydWarshall_Numba(ulnet1)\n",
    "eij1 = 1./dij1\n",
    "effic1 = ( eij1.sum() - eij1.trace() ) / Lmax\n",
    "# Generate the UL digraph containing a (M+1)-BS. Calculate its efficiency\n",
    "ulnet2 = gens.ULdigraph_Connected_Range1_MBS(N,M+1)\n",
    "dij2 = galib.metrics_numba.FloydWarshall_Numba(ulnet2)\n",
    "eij2 = 1./dij2\n",
    "effic2 = ( eij2.sum() - eij2.trace() ) / Lmax\n",
    "# Interpolate the result\n",
    "LM1 = N + 0.5*M*(M-1)\n",
    "LM2 = N + 0.5*(M+1)*M\n",
    "effic_ul_con = effic1 + (L - LM1) * (effic2-effic1) / (LM2 - LM1)\n",
    "\n",
    "# 2.4) ultra-long efficiency for disconnected digraphs\n",
    "effic_ul_disco = lims.Effic_ULdigraph_Disconnected(N,L)\n"
   ]
  },
  {
   "cell_type": "markdown",
   "metadata": {},
   "source": [
    "### 3. Pathlength and efficiency of null-models\n",
    "\n",
    "Random graphs and ring lattices are two common null-models often employed to evaluate whether a given network shall be classified as small-world or not. The difference with the limits is that apart from a set of constraints (e.g., the resulting graph needs to have $N$ nodes and $L$ arcs) null-modes impose a generative mechanism governing the rules by which the arcs are seeded on the digraph. Random digraphs assume that each arc is planted by choosing a source and a target nodes at random, from a probability distribution where each node has a given chance to be chosen. In ring-lattices links are seeded following a deterministic procedure based on the nearest neighbours.\n",
    "\n",
    "In the following we will calculate the average pathlength and the global efficiency for (Erdös-Rènyi) random digraphs and ring lattices with the same number of nodes $N$ and number of arcs $L$ as the empirical networks loaded before. For the case of random graphs, we will generate `nrealiz = 100` samples and will then evaluate the ensemble averaged results."
   ]
  },
  {
   "cell_type": "code",
   "execution_count": 9,
   "metadata": {},
   "outputs": [
    {
     "name": "stdout",
     "output_type": "stream",
     "text": [
      "\n",
      "Calculating 100 random realizations ...\n",
      "re: 10\n",
      "re: 20\n",
      "re: 30\n",
      "re: 40\n",
      "re: 50\n",
      "re: 60\n",
      "re: 70\n",
      "re: 80\n",
      "re: 90\n",
      "Finished.\n"
     ]
    }
   ],
   "source": [
    "# CALCULATE AVERAGE PATHLENGTH FOR EQUIVALENT RANDOM GRAPHS AND RING LATTICES\n",
    "# Equivalent random graphs, from ensemble\n",
    "nrealiz = 100\n",
    "print( \"\\nCalculating %d random realizations ...\" %nrealiz)\n",
    "\n",
    "pathlenlist = np.zeros(nrealiz, np.float)\n",
    "efficlist = np.zeros(nrealiz, np.float)\n",
    "for re in range(nrealiz):\n",
    "    if re in np.arange(10,110,10):\n",
    "        print( 're:', re )\n",
    "\n",
    "    # Generate a random graph\n",
    "    randnet = galib.models.RandomGraph(N,L, directed=True)\n",
    "    # Calculate distance matrix and pathlength\n",
    "    rdij = galib.metrics_numba.FloydWarshall_Numba(randnet)\n",
    "    rdijsum = rdij.sum()\n",
    "    if np.isinf(rdijsum):\n",
    "        pathlenlist[re] = np.inf\n",
    "    else:\n",
    "        pathlenlist[re] = rdijsum - rdij.trace()\n",
    "    # Calculate efficiency matrix and efficiency\n",
    "    reij = 1./rdij\n",
    "    efficlist[re] = reij.sum() - reij.trace()\n",
    "print( 'Finished.' )\n",
    "\n",
    "# Normalise the results\n",
    "pathlenlist /= Lmax\n",
    "efficlist /= Lmax\n",
    "\n",
    "# Calculate the ensemble average pathlength. Ignore disconnected random graphs\n",
    "goodidx = np.where(pathlenlist < np.inf)[0]\n",
    "if goodidx.size > 0:\n",
    "    pathlen_rand = pathlenlist[goodidx].mean()\n",
    "else:\n",
    "    pathlen_rand = np.nan\n",
    "nbad = nrealiz - goodidx.size\n",
    "if nbad:\n",
    "    print( '%d disconnected random graph(s) found out of %d realizations' %(nbad,nrealiz) )\n",
    "    print( 'Ignored from ensemble average pathlength' )\n",
    "# Calculate the ensemble average pathlength\n",
    "effic_rand = efficlist.mean()\n"
   ]
  },
  {
   "cell_type": "code",
   "execution_count": 10,
   "metadata": {},
   "outputs": [],
   "source": [
    "# Equivalent 1D ring lattices\n",
    "# Generate a ring lattice of same number of edges\n",
    "Lund = int(L/2)\n",
    "latt = galib.models.Lattice1D_FixLinks(N,Lund)\n",
    "# Calculate its distance matrix and the average pathlength\n",
    "ldij = galib.metrics_numba.FloydWarshall_Numba(latt)\n",
    "pathlen_latt = ( ldij.sum() - ldij.trace() ) / Lmax\n",
    "# Calculate the efficiency matrix and the average\n",
    "leij = 1. / ldij\n",
    "effic_latt = ( leij.sum() - leij.trace() ) / Lmax\n"
   ]
  },
  {
   "cell_type": "markdown",
   "metadata": {},
   "source": [
    "### 4. Summarise and visualise the results\n",
    "\n",
    "Finally, we can compare the values obtained for the empirical network together with the limits and with the outcome for different null-models in order to reveal the position every value takes in the space of possible outcomes."
   ]
  },
  {
   "cell_type": "code",
   "execution_count": 11,
   "metadata": {},
   "outputs": [
    {
     "name": "stdout",
     "output_type": "stream",
     "text": [
      "\n",
      "RESULTS --------------------------------------\n",
      "\t\tPathlength\tEfficiency\n",
      "Ultra-short\t1.7003\t\t0.6499\n",
      "Random\t\t1.7060\t\t0.6489\n",
      "Empirical\t1.8276\t\t0.6288\n",
      "Lattice\t\t2.2039\t\t0.5744\n",
      "Ultra-long\t15.7192\t\t0.3601\n",
      "UL discon.\tinf\t\t0.2997\n"
     ]
    }
   ],
   "source": [
    "# Print the numerical results\n",
    "print( '\\nRESULTS --------------------------------------' )\n",
    "print('\\t\\tPathlength\\tEfficiency')\n",
    "print('Ultra-short\\t%2.4f\\t\\t%2.4f' %(pathlen_us, effic_us) )\n",
    "print('Random\\t\\t%2.4f\\t\\t%2.4f'   %(pathlen_rand, effic_rand) )\n",
    "print('Empirical\\t%2.4f\\t\\t%2.4f'  %(pathlen_emp, effic_emp) )\n",
    "print('Lattice\\t\\t%2.4f\\t\\t%2.4f'  %(pathlen_latt, effic_latt) )\n",
    "print('Ultra-long\\t%2.4f\\t\\t%2.4f' %(pathlen_ul, effic_ul_con) )\n",
    "print('UL discon.\\t%2.4f\\t\\t%2.4f' %(np.inf, effic_ul_disco) )\n"
   ]
  },
  {
   "cell_type": "code",
   "execution_count": 12,
   "metadata": {},
   "outputs": [
    {
     "data": {
      "image/png": "[encoded data removed]",
      "text/plain": [
       "<Figure size 432x288 with 2 Axes>"
      ]
     },
     "metadata": {
      "needs_background": "light"
     },
     "output_type": "display_data"
    }
   ],
   "source": [
    "# Plot the results for visualization\n",
    "plt.figure()\n",
    "\n",
    "# Plot the PATHLENGTH\n",
    "plt.subplot(1,2,1)\n",
    "plt.title('Pathlength', fontsize=14)\n",
    "plt.axhline(y=1, linewidth=1.0, color='gray')\n",
    "# Plot the boundaries\n",
    "plt.axhline(y=pathlen_us, linewidth=1.0, color='gray', label='Ultra-short')\n",
    "plt.axhspan(1, pathlen_us, facecolor='gray', alpha=0.3)\n",
    "plt.axhline(y=pathlen_ul, linewidth=1.0, color='gold', label='Ultra-long')\n",
    "plt.axhspan(pathlen_ul, pathlen_ul+5, facecolor='gold', alpha=0.3)\n",
    "# Plot the random and lattice\n",
    "plt.scatter(1,pathlen_rand, marker='_', s=500, label='Random')\n",
    "plt.scatter(1,pathlen_latt, marker='_', s=500, label='Ring')\n",
    "# Plot the empirical data\n",
    "plt.scatter(1,pathlen_emp, marker='+', s=50, label='Real net')\n",
    "plt.xticks(())\n",
    "plt.ylim(1,pathlen_ul+1)\n",
    "\n",
    "# Plot the EFFICIENCY\n",
    "plt.subplot(1,2,2)\n",
    "plt.title('Efficiency', fontsize=14)\n",
    "# Plot the boundaries\n",
    "plt.axhline(y=effic_us, linewidth=1.0, color='gray', label='Ultra-short')\n",
    "plt.axhspan(effic_us, 1, facecolor='gray', alpha=0.3)\n",
    "plt.axhline(y=effic_ul_con, linewidth=1.0, color='gold', label='Ultra-long')\n",
    "plt.axhline(y=effic_ul_disco, ls='dashed', linewidth=1.0, color='gold', label='UL disco.')\n",
    "plt.axhspan(0, effic_ul_disco, facecolor='gold', alpha=0.3)\n",
    "# Plot the random and lattice\n",
    "plt.scatter(1,effic_rand, marker='_', s=500, label='Random')\n",
    "plt.scatter(1,effic_latt, marker='_', s=500, label='Ring')\n",
    "# Plot the empirical data\n",
    "plt.scatter(1,effic_emp, marker='+', s=50, label='Real net')\n",
    "plt.xticks(())\n",
    "plt.ylim(0,1)\n",
    "\n",
    "plt.legend(loc='upper right', fontsize=9)\n",
    "\n",
    "plt.tight_layout()\n"
   ]
  },
  {
   "cell_type": "code",
   "execution_count": null,
   "metadata": {},
   "outputs": [],
   "source": []
  },
  {
   "cell_type": "code",
   "execution_count": null,
   "metadata": {},
   "outputs": [],
   "source": []
  }
 ],
 "metadata": {
  "kernelspec": {
   "display_name": "Python 3",
   "language": "python",
   "name": "python3"
  },
  "language_info": {
   "codemirror_mode": {
    "name": "ipython",
    "version": 3
   },
   "file_extension": ".py",
   "mimetype": "text/x-python",
   "name": "python",
   "nbconvert_exporter": "python",
   "pygments_lexer": "ipython3",
   "version": "3.6.5"
  }
 },
 "nbformat": 4,
 "nbformat_minor": 2
}
